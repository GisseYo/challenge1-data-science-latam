{
  "nbformat": 4,
  "nbformat_minor": 0,
  "metadata": {
    "colab": {
      "provenance": [],
      "toc_visible": true
    },
    "kernelspec": {
      "name": "python3",
      "display_name": "Python 3"
    },
    "language_info": {
      "name": "python"
    }
  },
  "cells": [
    {
      "cell_type": "markdown",
      "source": [
        "### Importación de datos\n",
        "\n"
      ],
      "metadata": {
        "id": "RhEdWd9YUR6H"
      }
    },
    {
      "cell_type": "code",
      "execution_count": 1,
      "metadata": {
        "colab": {
          "base_uri": "https://localhost:8080/",
          "height": 206
        },
        "id": "T3EvaeQ_INIL",
        "outputId": "7e378771-6d32-4ae0-98e7-47cda28882ad"
      },
      "outputs": [
        {
          "output_type": "execute_result",
          "data": {
            "text/plain": [
              "            Producto Categoría del Producto    Precio  Costo de envío  \\\n",
              "0  Asistente virtual           Electrónicos  164300.0          6900.0   \n",
              "1    Mesa de comedor                Muebles  192300.0          8400.0   \n",
              "2      Juego de mesa               Juguetes  209600.0         15900.0   \n",
              "3         Microondas      Electrodomésticos  757500.0         41000.0   \n",
              "4   Silla de oficina                Muebles  335200.0         20200.0   \n",
              "\n",
              "  Fecha de Compra         Vendedor Lugar de Compra  Calificación  \\\n",
              "0      16/01/2021      Pedro Gomez          Bogotá             4   \n",
              "1      18/05/2022  Beatriz Morales        Medellín             1   \n",
              "2      15/03/2021   Juan Fernandez       Cartagena             1   \n",
              "3      03/05/2022   Juan Fernandez            Cali             4   \n",
              "4      07/11/2020    Maria Alfonso        Medellín             5   \n",
              "\n",
              "       Método de pago  Cantidad de cuotas       lat       lon  \n",
              "0  Tarjeta de crédito                   8   4.60971 -74.08175  \n",
              "1  Tarjeta de crédito                   4   6.25184 -75.56359  \n",
              "2  Tarjeta de crédito                   1  10.39972 -75.51444  \n",
              "3               Nequi                   1   3.43722 -76.52250  \n",
              "4               Nequi                   1   6.25184 -75.56359  "
            ],
            "text/html": [
              "\n",
              "  <div id=\"df-6ac6957a-3404-462d-9593-57e703d5d72c\" class=\"colab-df-container\">\n",
              "    <div>\n",
              "<style scoped>\n",
              "    .dataframe tbody tr th:only-of-type {\n",
              "        vertical-align: middle;\n",
              "    }\n",
              "\n",
              "    .dataframe tbody tr th {\n",
              "        vertical-align: top;\n",
              "    }\n",
              "\n",
              "    .dataframe thead th {\n",
              "        text-align: right;\n",
              "    }\n",
              "</style>\n",
              "<table border=\"1\" class=\"dataframe\">\n",
              "  <thead>\n",
              "    <tr style=\"text-align: right;\">\n",
              "      <th></th>\n",
              "      <th>Producto</th>\n",
              "      <th>Categoría del Producto</th>\n",
              "      <th>Precio</th>\n",
              "      <th>Costo de envío</th>\n",
              "      <th>Fecha de Compra</th>\n",
              "      <th>Vendedor</th>\n",
              "      <th>Lugar de Compra</th>\n",
              "      <th>Calificación</th>\n",
              "      <th>Método de pago</th>\n",
              "      <th>Cantidad de cuotas</th>\n",
              "      <th>lat</th>\n",
              "      <th>lon</th>\n",
              "    </tr>\n",
              "  </thead>\n",
              "  <tbody>\n",
              "    <tr>\n",
              "      <th>0</th>\n",
              "      <td>Asistente virtual</td>\n",
              "      <td>Electrónicos</td>\n",
              "      <td>164300.0</td>\n",
              "      <td>6900.0</td>\n",
              "      <td>16/01/2021</td>\n",
              "      <td>Pedro Gomez</td>\n",
              "      <td>Bogotá</td>\n",
              "      <td>4</td>\n",
              "      <td>Tarjeta de crédito</td>\n",
              "      <td>8</td>\n",
              "      <td>4.60971</td>\n",
              "      <td>-74.08175</td>\n",
              "    </tr>\n",
              "    <tr>\n",
              "      <th>1</th>\n",
              "      <td>Mesa de comedor</td>\n",
              "      <td>Muebles</td>\n",
              "      <td>192300.0</td>\n",
              "      <td>8400.0</td>\n",
              "      <td>18/05/2022</td>\n",
              "      <td>Beatriz Morales</td>\n",
              "      <td>Medellín</td>\n",
              "      <td>1</td>\n",
              "      <td>Tarjeta de crédito</td>\n",
              "      <td>4</td>\n",
              "      <td>6.25184</td>\n",
              "      <td>-75.56359</td>\n",
              "    </tr>\n",
              "    <tr>\n",
              "      <th>2</th>\n",
              "      <td>Juego de mesa</td>\n",
              "      <td>Juguetes</td>\n",
              "      <td>209600.0</td>\n",
              "      <td>15900.0</td>\n",
              "      <td>15/03/2021</td>\n",
              "      <td>Juan Fernandez</td>\n",
              "      <td>Cartagena</td>\n",
              "      <td>1</td>\n",
              "      <td>Tarjeta de crédito</td>\n",
              "      <td>1</td>\n",
              "      <td>10.39972</td>\n",
              "      <td>-75.51444</td>\n",
              "    </tr>\n",
              "    <tr>\n",
              "      <th>3</th>\n",
              "      <td>Microondas</td>\n",
              "      <td>Electrodomésticos</td>\n",
              "      <td>757500.0</td>\n",
              "      <td>41000.0</td>\n",
              "      <td>03/05/2022</td>\n",
              "      <td>Juan Fernandez</td>\n",
              "      <td>Cali</td>\n",
              "      <td>4</td>\n",
              "      <td>Nequi</td>\n",
              "      <td>1</td>\n",
              "      <td>3.43722</td>\n",
              "      <td>-76.52250</td>\n",
              "    </tr>\n",
              "    <tr>\n",
              "      <th>4</th>\n",
              "      <td>Silla de oficina</td>\n",
              "      <td>Muebles</td>\n",
              "      <td>335200.0</td>\n",
              "      <td>20200.0</td>\n",
              "      <td>07/11/2020</td>\n",
              "      <td>Maria Alfonso</td>\n",
              "      <td>Medellín</td>\n",
              "      <td>5</td>\n",
              "      <td>Nequi</td>\n",
              "      <td>1</td>\n",
              "      <td>6.25184</td>\n",
              "      <td>-75.56359</td>\n",
              "    </tr>\n",
              "  </tbody>\n",
              "</table>\n",
              "</div>\n",
              "    <div class=\"colab-df-buttons\">\n",
              "\n",
              "  <div class=\"colab-df-container\">\n",
              "    <button class=\"colab-df-convert\" onclick=\"convertToInteractive('df-6ac6957a-3404-462d-9593-57e703d5d72c')\"\n",
              "            title=\"Convert this dataframe to an interactive table.\"\n",
              "            style=\"display:none;\">\n",
              "\n",
              "  <svg xmlns=\"http://www.w3.org/2000/svg\" height=\"24px\" viewBox=\"0 -960 960 960\">\n",
              "    <path d=\"M120-120v-720h720v720H120Zm60-500h600v-160H180v160Zm220 220h160v-160H400v160Zm0 220h160v-160H400v160ZM180-400h160v-160H180v160Zm440 0h160v-160H620v160ZM180-180h160v-160H180v160Zm440 0h160v-160H620v160Z\"/>\n",
              "  </svg>\n",
              "    </button>\n",
              "\n",
              "  <style>\n",
              "    .colab-df-container {\n",
              "      display:flex;\n",
              "      gap: 12px;\n",
              "    }\n",
              "\n",
              "    .colab-df-convert {\n",
              "      background-color: #E8F0FE;\n",
              "      border: none;\n",
              "      border-radius: 50%;\n",
              "      cursor: pointer;\n",
              "      display: none;\n",
              "      fill: #1967D2;\n",
              "      height: 32px;\n",
              "      padding: 0 0 0 0;\n",
              "      width: 32px;\n",
              "    }\n",
              "\n",
              "    .colab-df-convert:hover {\n",
              "      background-color: #E2EBFA;\n",
              "      box-shadow: 0px 1px 2px rgba(60, 64, 67, 0.3), 0px 1px 3px 1px rgba(60, 64, 67, 0.15);\n",
              "      fill: #174EA6;\n",
              "    }\n",
              "\n",
              "    .colab-df-buttons div {\n",
              "      margin-bottom: 4px;\n",
              "    }\n",
              "\n",
              "    [theme=dark] .colab-df-convert {\n",
              "      background-color: #3B4455;\n",
              "      fill: #D2E3FC;\n",
              "    }\n",
              "\n",
              "    [theme=dark] .colab-df-convert:hover {\n",
              "      background-color: #434B5C;\n",
              "      box-shadow: 0px 1px 3px 1px rgba(0, 0, 0, 0.15);\n",
              "      filter: drop-shadow(0px 1px 2px rgba(0, 0, 0, 0.3));\n",
              "      fill: #FFFFFF;\n",
              "    }\n",
              "  </style>\n",
              "\n",
              "    <script>\n",
              "      const buttonEl =\n",
              "        document.querySelector('#df-6ac6957a-3404-462d-9593-57e703d5d72c button.colab-df-convert');\n",
              "      buttonEl.style.display =\n",
              "        google.colab.kernel.accessAllowed ? 'block' : 'none';\n",
              "\n",
              "      async function convertToInteractive(key) {\n",
              "        const element = document.querySelector('#df-6ac6957a-3404-462d-9593-57e703d5d72c');\n",
              "        const dataTable =\n",
              "          await google.colab.kernel.invokeFunction('convertToInteractive',\n",
              "                                                    [key], {});\n",
              "        if (!dataTable) return;\n",
              "\n",
              "        const docLinkHtml = 'Like what you see? Visit the ' +\n",
              "          '<a target=\"_blank\" href=https://colab.research.google.com/notebooks/data_table.ipynb>data table notebook</a>'\n",
              "          + ' to learn more about interactive tables.';\n",
              "        element.innerHTML = '';\n",
              "        dataTable['output_type'] = 'display_data';\n",
              "        await google.colab.output.renderOutput(dataTable, element);\n",
              "        const docLink = document.createElement('div');\n",
              "        docLink.innerHTML = docLinkHtml;\n",
              "        element.appendChild(docLink);\n",
              "      }\n",
              "    </script>\n",
              "  </div>\n",
              "\n",
              "\n",
              "    <div id=\"df-c8dd9164-6a08-46c9-8330-3bb6768ed449\">\n",
              "      <button class=\"colab-df-quickchart\" onclick=\"quickchart('df-c8dd9164-6a08-46c9-8330-3bb6768ed449')\"\n",
              "                title=\"Suggest charts\"\n",
              "                style=\"display:none;\">\n",
              "\n",
              "<svg xmlns=\"http://www.w3.org/2000/svg\" height=\"24px\"viewBox=\"0 0 24 24\"\n",
              "     width=\"24px\">\n",
              "    <g>\n",
              "        <path d=\"M19 3H5c-1.1 0-2 .9-2 2v14c0 1.1.9 2 2 2h14c1.1 0 2-.9 2-2V5c0-1.1-.9-2-2-2zM9 17H7v-7h2v7zm4 0h-2V7h2v10zm4 0h-2v-4h2v4z\"/>\n",
              "    </g>\n",
              "</svg>\n",
              "      </button>\n",
              "\n",
              "<style>\n",
              "  .colab-df-quickchart {\n",
              "      --bg-color: #E8F0FE;\n",
              "      --fill-color: #1967D2;\n",
              "      --hover-bg-color: #E2EBFA;\n",
              "      --hover-fill-color: #174EA6;\n",
              "      --disabled-fill-color: #AAA;\n",
              "      --disabled-bg-color: #DDD;\n",
              "  }\n",
              "\n",
              "  [theme=dark] .colab-df-quickchart {\n",
              "      --bg-color: #3B4455;\n",
              "      --fill-color: #D2E3FC;\n",
              "      --hover-bg-color: #434B5C;\n",
              "      --hover-fill-color: #FFFFFF;\n",
              "      --disabled-bg-color: #3B4455;\n",
              "      --disabled-fill-color: #666;\n",
              "  }\n",
              "\n",
              "  .colab-df-quickchart {\n",
              "    background-color: var(--bg-color);\n",
              "    border: none;\n",
              "    border-radius: 50%;\n",
              "    cursor: pointer;\n",
              "    display: none;\n",
              "    fill: var(--fill-color);\n",
              "    height: 32px;\n",
              "    padding: 0;\n",
              "    width: 32px;\n",
              "  }\n",
              "\n",
              "  .colab-df-quickchart:hover {\n",
              "    background-color: var(--hover-bg-color);\n",
              "    box-shadow: 0 1px 2px rgba(60, 64, 67, 0.3), 0 1px 3px 1px rgba(60, 64, 67, 0.15);\n",
              "    fill: var(--button-hover-fill-color);\n",
              "  }\n",
              "\n",
              "  .colab-df-quickchart-complete:disabled,\n",
              "  .colab-df-quickchart-complete:disabled:hover {\n",
              "    background-color: var(--disabled-bg-color);\n",
              "    fill: var(--disabled-fill-color);\n",
              "    box-shadow: none;\n",
              "  }\n",
              "\n",
              "  .colab-df-spinner {\n",
              "    border: 2px solid var(--fill-color);\n",
              "    border-color: transparent;\n",
              "    border-bottom-color: var(--fill-color);\n",
              "    animation:\n",
              "      spin 1s steps(1) infinite;\n",
              "  }\n",
              "\n",
              "  @keyframes spin {\n",
              "    0% {\n",
              "      border-color: transparent;\n",
              "      border-bottom-color: var(--fill-color);\n",
              "      border-left-color: var(--fill-color);\n",
              "    }\n",
              "    20% {\n",
              "      border-color: transparent;\n",
              "      border-left-color: var(--fill-color);\n",
              "      border-top-color: var(--fill-color);\n",
              "    }\n",
              "    30% {\n",
              "      border-color: transparent;\n",
              "      border-left-color: var(--fill-color);\n",
              "      border-top-color: var(--fill-color);\n",
              "      border-right-color: var(--fill-color);\n",
              "    }\n",
              "    40% {\n",
              "      border-color: transparent;\n",
              "      border-right-color: var(--fill-color);\n",
              "      border-top-color: var(--fill-color);\n",
              "    }\n",
              "    60% {\n",
              "      border-color: transparent;\n",
              "      border-right-color: var(--fill-color);\n",
              "    }\n",
              "    80% {\n",
              "      border-color: transparent;\n",
              "      border-right-color: var(--fill-color);\n",
              "      border-bottom-color: var(--fill-color);\n",
              "    }\n",
              "    90% {\n",
              "      border-color: transparent;\n",
              "      border-bottom-color: var(--fill-color);\n",
              "    }\n",
              "  }\n",
              "</style>\n",
              "\n",
              "      <script>\n",
              "        async function quickchart(key) {\n",
              "          const quickchartButtonEl =\n",
              "            document.querySelector('#' + key + ' button');\n",
              "          quickchartButtonEl.disabled = true;  // To prevent multiple clicks.\n",
              "          quickchartButtonEl.classList.add('colab-df-spinner');\n",
              "          try {\n",
              "            const charts = await google.colab.kernel.invokeFunction(\n",
              "                'suggestCharts', [key], {});\n",
              "          } catch (error) {\n",
              "            console.error('Error during call to suggestCharts:', error);\n",
              "          }\n",
              "          quickchartButtonEl.classList.remove('colab-df-spinner');\n",
              "          quickchartButtonEl.classList.add('colab-df-quickchart-complete');\n",
              "        }\n",
              "        (() => {\n",
              "          let quickchartButtonEl =\n",
              "            document.querySelector('#df-c8dd9164-6a08-46c9-8330-3bb6768ed449 button');\n",
              "          quickchartButtonEl.style.display =\n",
              "            google.colab.kernel.accessAllowed ? 'block' : 'none';\n",
              "        })();\n",
              "      </script>\n",
              "    </div>\n",
              "\n",
              "    </div>\n",
              "  </div>\n"
            ],
            "application/vnd.google.colaboratory.intrinsic+json": {
              "type": "dataframe",
              "variable_name": "tienda",
              "summary": "{\n  \"name\": \"tienda\",\n  \"rows\": 2359,\n  \"fields\": [\n    {\n      \"column\": \"Producto\",\n      \"properties\": {\n        \"dtype\": \"category\",\n        \"num_unique_values\": 51,\n        \"samples\": [\n          \"Guitarra ac\\u00fastica\",\n          \"Bal\\u00f3n de baloncesto\",\n          \"Smartwatch\"\n        ],\n        \"semantic_type\": \"\",\n        \"description\": \"\"\n      }\n    },\n    {\n      \"column\": \"Categor\\u00eda del Producto\",\n      \"properties\": {\n        \"dtype\": \"category\",\n        \"num_unique_values\": 8,\n        \"samples\": [\n          \"Muebles\",\n          \"Deportes y diversi\\u00f3n\",\n          \"Electr\\u00f3nicos\"\n        ],\n        \"semantic_type\": \"\",\n        \"description\": \"\"\n      }\n    },\n    {\n      \"column\": \"Precio\",\n      \"properties\": {\n        \"dtype\": \"number\",\n        \"std\": 614686.7653873172,\n        \"min\": 7600.0,\n        \"max\": 2977000.0,\n        \"num_unique_values\": 1937,\n        \"samples\": [\n          2499400.0,\n          14800.0,\n          80500.0\n        ],\n        \"semantic_type\": \"\",\n        \"description\": \"\"\n      }\n    },\n    {\n      \"column\": \"Costo de env\\u00edo\",\n      \"properties\": {\n        \"dtype\": \"number\",\n        \"std\": 32860.0017825605,\n        \"min\": 0.0,\n        \"max\": 160800.0,\n        \"num_unique_values\": 753,\n        \"samples\": [\n          117800.0,\n          54700.0,\n          45600.0\n        ],\n        \"semantic_type\": \"\",\n        \"description\": \"\"\n      }\n    },\n    {\n      \"column\": \"Fecha de Compra\",\n      \"properties\": {\n        \"dtype\": \"object\",\n        \"num_unique_values\": 1018,\n        \"samples\": [\n          \"15/09/2022\",\n          \"03/06/2020\",\n          \"06/11/2021\"\n        ],\n        \"semantic_type\": \"\",\n        \"description\": \"\"\n      }\n    },\n    {\n      \"column\": \"Vendedor\",\n      \"properties\": {\n        \"dtype\": \"category\",\n        \"num_unique_values\": 14,\n        \"samples\": [\n          \"Juliana Costa\",\n          \"Mariana Herrera\",\n          \"Pedro Gomez\"\n        ],\n        \"semantic_type\": \"\",\n        \"description\": \"\"\n      }\n    },\n    {\n      \"column\": \"Lugar de Compra\",\n      \"properties\": {\n        \"dtype\": \"category\",\n        \"num_unique_values\": 19,\n        \"samples\": [\n          \"Bogot\\u00e1\",\n          \"Pereira\",\n          \"Neiva\"\n        ],\n        \"semantic_type\": \"\",\n        \"description\": \"\"\n      }\n    },\n    {\n      \"column\": \"Calificaci\\u00f3n\",\n      \"properties\": {\n        \"dtype\": \"number\",\n        \"std\": 1,\n        \"min\": 1,\n        \"max\": 5,\n        \"num_unique_values\": 5,\n        \"samples\": [\n          1,\n          2,\n          5\n        ],\n        \"semantic_type\": \"\",\n        \"description\": \"\"\n      }\n    },\n    {\n      \"column\": \"M\\u00e9todo de pago\",\n      \"properties\": {\n        \"dtype\": \"category\",\n        \"num_unique_values\": 4,\n        \"samples\": [\n          \"Nequi\",\n          \"Tarjeta de d\\u00e9bito\",\n          \"Tarjeta de cr\\u00e9dito\"\n        ],\n        \"semantic_type\": \"\",\n        \"description\": \"\"\n      }\n    },\n    {\n      \"column\": \"Cantidad de cuotas\",\n      \"properties\": {\n        \"dtype\": \"number\",\n        \"std\": 2,\n        \"min\": 1,\n        \"max\": 24,\n        \"num_unique_values\": 15,\n        \"samples\": [\n          7,\n          14,\n          8\n        ],\n        \"semantic_type\": \"\",\n        \"description\": \"\"\n      }\n    },\n    {\n      \"column\": \"lat\",\n      \"properties\": {\n        \"dtype\": \"number\",\n        \"std\": 2.2874452492678627,\n        \"min\": -4.21528,\n        \"max\": 11.54444,\n        \"num_unique_values\": 19,\n        \"samples\": [\n          4.60971,\n          4.81333,\n          2.9273\n        ],\n        \"semantic_type\": \"\",\n        \"description\": \"\"\n      }\n    },\n    {\n      \"column\": \"lon\",\n      \"properties\": {\n        \"dtype\": \"number\",\n        \"std\": 1.2178272727088486,\n        \"min\": -77.28111,\n        \"max\": -67.9239,\n        \"num_unique_values\": 19,\n        \"samples\": [\n          -74.08175,\n          -75.69611,\n          -75.28189\n        ],\n        \"semantic_type\": \"\",\n        \"description\": \"\"\n      }\n    }\n  ]\n}"
            }
          },
          "metadata": {},
          "execution_count": 1
        }
      ],
      "source": [
        "import pandas as pd\n",
        "\n",
        "url = \"https://raw.githubusercontent.com/alura-es-cursos/challenge1-data-science-latam/refs/heads/main/base-de-datos-challenge1-latam/tienda_1%20.csv\"\n",
        "url2 = \"https://raw.githubusercontent.com/alura-es-cursos/challenge1-data-science-latam/refs/heads/main/base-de-datos-challenge1-latam/tienda_2.csv\"\n",
        "url3 = \"https://raw.githubusercontent.com/alura-es-cursos/challenge1-data-science-latam/refs/heads/main/base-de-datos-challenge1-latam/tienda_3.csv\"\n",
        "url4 = \"https://raw.githubusercontent.com/alura-es-cursos/challenge1-data-science-latam/refs/heads/main/base-de-datos-challenge1-latam/tienda_4.csv\"\n",
        "\n",
        "tienda = pd.read_csv(url)\n",
        "tienda2 = pd.read_csv(url2)\n",
        "tienda3 = pd.read_csv(url3)\n",
        "tienda4 = pd.read_csv(url4)\n",
        "\n",
        "tienda.head()"
      ]
    },
    {
      "cell_type": "markdown",
      "source": [
        "#1. Análisis de facturación\n",
        "\n"
      ],
      "metadata": {
        "id": "X62IW3KFUIYm"
      }
    },
    {
      "cell_type": "code",
      "source": [
        "total_ingreso_tienda = tienda['Precio'].sum()\n",
        "total_ingreso_tienda2 = tienda2['Precio'].sum()\n",
        "total_ingreso_tienda3 = tienda3['Precio'].sum()\n",
        "total_ingreso_tienda4 = tienda4['Precio'].sum()\n",
        "\n",
        "\n",
        "print(f\"Total ingreso tienda 1: {total_ingreso_tienda}\")\n",
        "print(f\"Total ingreso tienda 2: {total_ingreso_tienda2}\")\n",
        "print(f\"Total ingreso tienda 3: {total_ingreso_tienda3}\")\n",
        "print(f\"Total ingreso tienda 4: {total_ingreso_tienda4}\")\n",
        "\n",
        "Totales_tiendas = [int(total_ingreso_tienda), int(total_ingreso_tienda2), int(total_ingreso_tienda3), int(total_ingreso_tienda4)]\n",
        "Tiendas = (\"Tienda 1\", \"Tienda 2\", \"Tienda 3\", \"Tienda 4\")\n",
        "mayor_ingreso = max(Totales_tiendas)\n",
        "menor_ingreso = min(Totales_tiendas)\n",
        "\n",
        "from matplotlib import pyplot as plt\n",
        "plt.bar(x= Tiendas, height=Totales_tiendas )\n",
        "plt.show()\n",
        "\n",
        "print(f\"La tienda de que obtuvo mayor ingreso de ventas fue {Tiendas[Totales_tiendas.index(mayor_ingreso)]} y el ingreso fue de {mayor_ingreso}\")\n",
        "print(f\"La tienda de que obtuvo menos ingreso de ventas fue {Tiendas[Totales_tiendas.index(menor_ingreso)]} y el ingreso fue de {menor_ingreso}\")\n",
        "\n",
        "tienda_mas =(Tiendas[Totales_tiendas.index(mayor_ingreso)],mayor_ingreso)\n",
        "tienda_menos =(Tiendas[Totales_tiendas.index(menor_ingreso)],menor_ingreso)"
      ],
      "metadata": {
        "id": "xykobSftV64I",
        "outputId": "4309b643-90f0-4588-ed23-ff4b6ca11942",
        "colab": {
          "base_uri": "https://localhost:8080/",
          "height": 549
        }
      },
      "execution_count": 3,
      "outputs": [
        {
          "output_type": "stream",
          "name": "stdout",
          "text": [
            "Total ingreso tienda 1: 1150880400.0\n",
            "Total ingreso tienda 2: 1116343500.0\n",
            "Total ingreso tienda 3: 1098019600.0\n",
            "Total ingreso tienda 4: 1038375700.0\n"
          ]
        },
        {
          "output_type": "display_data",
          "data": {
            "text/plain": [
              "<Figure size 640x480 with 1 Axes>"
            ],
            "image/png": "[encoded data removed]"
          },
          "metadata": {}
        },
        {
          "output_type": "stream",
          "name": "stdout",
          "text": [
            "La tienda de que obtuvo mayor ingreso de ventas fue Tienda 1 y el ingreso fue de 1150880400\n",
            "La tienda de que obtuvo menos ingreso de ventas fue Tienda 4 y el ingreso fue de 1038375700\n"
          ]
        }
      ]
    },
    {
      "cell_type": "code",
      "source": [],
      "metadata": {
        "id": "KDyr8E71V3m-"
      },
      "execution_count": null,
      "outputs": []
    },
    {
      "cell_type": "markdown",
      "source": [
        "# 2. Ventas por categoría"
      ],
      "metadata": {
        "id": "2V_vcAPzWZmR"
      }
    },
    {
      "cell_type": "code",
      "source": [
        "\n",
        "import pandas as pd\n",
        "#agrupo la información por tienda en una variable, con el nombre de la categoria, la cantidad de de productos vendidos por categoria y la suma total en dinero por categoria\n",
        "categorias_tienda1 = tienda.groupby('Categoría del Producto').agg(cantidad_vendida=('Categoría del Producto', 'count'),total_vendido=('Precio', 'sum'))\n",
        "categorias_tienda2 = tienda2.groupby('Categoría del Producto').agg(cantidad_vendida=('Categoría del Producto', 'count'),total_vendido=('Precio', 'sum'))\n",
        "categorias_tienda3 = tienda3.groupby('Categoría del Producto').agg(cantidad_vendida=('Categoría del Producto', 'count'),total_vendido=('Precio', 'sum'))\n",
        "categorias_tienda4 = tienda4.groupby('Categoría del Producto').agg(cantidad_vendida=('Categoría del Producto', 'count'),total_vendido=('Precio', 'sum'))\n",
        "\n",
        "#guardo el nombre del prodructo que tiene mas ventas\n",
        "productomasvendido_tienda1 = categorias_tienda1['cantidad_vendida'].idxmax()\n",
        "productomasvendido_tienda2 = categorias_tienda2['cantidad_vendida'].idxmax()\n",
        "productomasvendido_tienda3 = categorias_tienda3['cantidad_vendida'].idxmax()\n",
        "productomasvendido_tienda4 = categorias_tienda4['cantidad_vendida'].idxmax()\n",
        "\n",
        "cantidad_ventasmas_tienda1 = max(categorias_tienda1['cantidad_vendida'])\n",
        "cantidad_ventasmas_tienda2 = max(categorias_tienda2['cantidad_vendida'])\n",
        "cantidad_ventasmas_tienda3 = max(categorias_tienda3['cantidad_vendida'])\n",
        "cantidad_ventasmas_tienda4 = max(categorias_tienda4['cantidad_vendida'])\n",
        "Suma_cantidad_ventasmas = (cantidad_ventasmas_tienda1 + cantidad_ventasmas_tienda2 + cantidad_ventasmas_tienda3 + cantidad_ventasmas_tienda4)\n",
        "\n",
        "if productomasvendido_tienda1 == productomasvendido_tienda2 == productomasvendido_tienda3 == productomasvendido_tienda4:\n",
        "  el_producto_mas = productomasvendido_tienda1\n",
        "\n",
        "cantidades_venidad = (cantidad_ventasmas_tienda1, cantidad_ventasmas_tienda2, cantidad_ventasmas_tienda3, cantidad_ventasmas_tienda4)\n",
        "\n",
        "tienda_que_mas_vende = (Tiendas[cantidades_venidad.index(max(cantidades_venidad))],max(cantidades_venidad))\n",
        "tienda_que_menos_vende = (Tiendas[cantidades_venidad.index(min(cantidades_venidad))],min(cantidades_venidad))\n",
        "\n",
        "\n",
        "\n",
        "# Muestra el resultado\n",
        "print(categorias_tienda1)\n",
        "print(f'La categoria mas polular de la tienda 1 es: {productomasvendido_tienda1}')\n",
        "print(categorias_tienda2)\n",
        "print(f'La categoria mas polular de la tienda 2 es: {productomasvendido_tienda2}')\n",
        "print(categorias_tienda3)\n",
        "print(f'La categoria mas polular de la tienda 3 es: {productomasvendido_tienda3}')\n",
        "print(categorias_tienda4)\n",
        "print(f'La categoria mas polular de la tienda 4 es: {productomasvendido_tienda4}')\n",
        "\n",
        "\n"
      ],
      "metadata": {
        "id": "A34YupIuYhfF",
        "outputId": "dac38ee4-cc84-46a5-aace-61c0923bf8d4",
        "colab": {
          "base_uri": "https://localhost:8080/"
        }
      },
      "execution_count": 4,
      "outputs": [
        {
          "output_type": "stream",
          "name": "stdout",
          "text": [
            "                         cantidad_vendida  total_vendido\n",
            "Categoría del Producto                                  \n",
            "Artículos para el hogar               171     12698400.0\n",
            "Deportes y diversión                  284     39290000.0\n",
            "Electrodomésticos                     312    363685200.0\n",
            "Electrónicos                          448    429493500.0\n",
            "Instrumentos musicales                182     91299000.0\n",
            "Juguetes                              324     17995700.0\n",
            "Libros                                173      8784900.0\n",
            "Muebles                               465    187633700.0\n",
            "La categoria mas polular de la tienda 1 es: Muebles\n",
            "                         cantidad_vendida  total_vendido\n",
            "Categoría del Producto                                  \n",
            "Artículos para el hogar               181     14746900.0\n",
            "Deportes y diversión                  275     34744500.0\n",
            "Electrodomésticos                     305    348567800.0\n",
            "Electrónicos                          422    410831100.0\n",
            "Instrumentos musicales                224    104990300.0\n",
            "Juguetes                              313     15945400.0\n",
            "Libros                                197     10091200.0\n",
            "Muebles                               442    176426300.0\n",
            "La categoria mas polular de la tienda 2 es: Muebles\n",
            "                         cantidad_vendida  total_vendido\n",
            "Categoría del Producto                                  \n",
            "Artículos para el hogar               177     15060000.0\n",
            "Deportes y diversión                  277     35593100.0\n",
            "Electrodomésticos                     278    329237900.0\n",
            "Electrónicos                          451    410775800.0\n",
            "Instrumentos musicales                177     77380900.0\n",
            "Juguetes                              315     19401100.0\n",
            "Libros                                185      9498700.0\n",
            "Muebles                               499    201072100.0\n",
            "La categoria mas polular de la tienda 3 es: Muebles\n",
            "                         cantidad_vendida  total_vendido\n",
            "Categoría del Producto                                  \n",
            "Artículos para el hogar               201     15074500.0\n",
            "Deportes y diversión                  277     33350100.0\n",
            "Electrodomésticos                     254    283260200.0\n",
            "Electrónicos                          451    409476100.0\n",
            "Instrumentos musicales                170     75102400.0\n",
            "Juguetes                              338     20262200.0\n",
            "Libros                                187      9321300.0\n",
            "Muebles                               480    192528900.0\n",
            "La categoria mas polular de la tienda 4 es: Muebles\n"
          ]
        }
      ]
    },
    {
      "cell_type": "code",
      "source": [],
      "metadata": {
        "id": "yZR6cOjXYSk1"
      },
      "execution_count": null,
      "outputs": []
    },
    {
      "cell_type": "markdown",
      "source": [
        "# 3. Calificación promedio de la tienda\n"
      ],
      "metadata": {
        "id": "Rq6tU_xSY3jk"
      }
    },
    {
      "cell_type": "code",
      "source": [
        "import pandas as pd\n",
        "\n",
        "valoracion_tienda1 = tienda['Calificación'].sum()/tienda['Calificación'].count()\n",
        "valoracion_tienda2 = tienda2['Calificación'].sum()/tienda2['Calificación'].count()\n",
        "valoracion_tienda3 = tienda3['Calificación'].sum()/tienda3['Calificación'].count()\n",
        "valoracion_tienda4 = tienda4['Calificación'].sum()/tienda4['Calificación'].count()\n",
        "\n",
        "\n",
        "print(f\"La calificacion promedio de la tienda 1 es: {valoracion_tienda1:.2f}\")\n",
        "print(f\"La calificacion promedio de la tienda 2 es: {valoracion_tienda2:.2f}\")\n",
        "print(f\"La calificacion promedio de la tienda 3 es: {valoracion_tienda3:.2f}\")\n",
        "print(f\"La calificacion promedio de la tienda 4 es: {valoracion_tienda4:.2f}\")\n"
      ],
      "metadata": {
        "id": "bh3jjjJwY5MU",
        "colab": {
          "base_uri": "https://localhost:8080/"
        },
        "outputId": "6f069d05-e240-4889-da2f-ecbd0f059627"
      },
      "execution_count": 7,
      "outputs": [
        {
          "output_type": "stream",
          "name": "stdout",
          "text": [
            "La calificacion promedio de la tienda 1 es: 3.98\n",
            "La calificacion promedio de la tienda 2 es: 4.04\n",
            "La calificacion promedio de la tienda 3 es: 4.05\n",
            "La calificacion promedio de la tienda 4 es: 4.00\n"
          ]
        }
      ]
    },
    {
      "cell_type": "code",
      "source": [
        "tiendas = [\"Tienda 1\", \"Tienda 2\", \"Tienda 3\", \"Tienda 4\"]\n",
        "calificaciones = [valoracion_tienda1, valoracion_tienda2, valoracion_tienda3, valoracion_tienda4]\n",
        "\n",
        "tienda_mejor = (tiendas[calificaciones.index(max(calificaciones))],max(calificaciones))\n",
        "tienda_peor = (tiendas[calificaciones.index(min(calificaciones))],min(calificaciones))\n",
        "\n",
        "plt.bar(x=tiendas, height=calificaciones)\n",
        "plt.show()"
      ],
      "metadata": {
        "id": "I0KkjPoTY88F",
        "colab": {
          "base_uri": "https://localhost:8080/",
          "height": 430
        },
        "outputId": "dd0626d2-09aa-41f2-fea1-79acd70edfa2"
      },
      "execution_count": 9,
      "outputs": [
        {
          "output_type": "display_data",
          "data": {
            "text/plain": [
              "<Figure size 640x480 with 1 Axes>"
            ],
            "image/png": "[encoded data removed]"
          },
          "metadata": {}
        }
      ]
    },
    {
      "cell_type": "markdown",
      "source": [
        "# 4. Productos más y menos vendidos"
      ],
      "metadata": {
        "id": "DmNp1KPBZCm-"
      }
    },
    {
      "cell_type": "code",
      "source": [
        "#agrupo el total vendido por categoria de cada tienda\n",
        "categorias_agrupadas_tienda1 = tienda.groupby('Categoría del Producto')['Precio'].sum()\n",
        "categorias_agrupadas_tienda2 = tienda2.groupby('Categoría del Producto')['Precio'].sum()\n",
        "categorias_agrupadas_tienda3 = tienda3.groupby('Categoría del Producto')['Precio'].sum()\n",
        "categorias_agrupadas_tienda4 = tienda4.groupby('Categoría del Producto')['Precio'].sum()\n",
        "\n",
        "#agrupo la cantidad vendida por categoria de cada tienda\n",
        "conteo_por_categoria_tienda1 = tienda['Categoría del Producto'].value_counts()\n",
        "conteo_por_categoria_tienda2 = tienda2['Categoría del Producto'].value_counts()\n",
        "conteo_por_categoria_tienda3 = tienda3['Categoría del Producto'].value_counts()\n",
        "conteo_por_categoria_tienda4 = tienda4['Categoría del Producto'].value_counts()\n",
        "\n",
        "#dejo en una variable el mas vendido y el menos vendido por tienda ademas de los montos de cada una\n",
        "mas_vendido_tienda1 = conteo_por_categoria_tienda1.idxmax()\n",
        "menos_vendido_tienda1 = conteo_por_categoria_tienda1.idxmin()\n",
        "monto_mas_vendido_tienda1= categorias_agrupadas_tienda1.get(mas_vendido_tienda1)\n",
        "monto_menos_vendido_tienda1= categorias_agrupadas_tienda1.get(menos_vendido_tienda1)\n",
        "\n",
        "mas_vendido_tienda2 = conteo_por_categoria_tienda2.idxmax()\n",
        "menos_vendido_tienda2 = conteo_por_categoria_tienda2.idxmin()\n",
        "monto_mas_vendido_tienda2= categorias_agrupadas_tienda2.get(mas_vendido_tienda2)\n",
        "monto_menos_vendido_tienda2= categorias_agrupadas_tienda2.get(menos_vendido_tienda2)\n",
        "\n",
        "mas_vendido_tienda3 = conteo_por_categoria_tienda3.idxmax()\n",
        "menos_vendido_tienda3 = conteo_por_categoria_tienda3.idxmin()\n",
        "monto_mas_vendido_tienda3= categorias_agrupadas_tienda3.get(mas_vendido_tienda3)\n",
        "monto_menos_vendido_tienda3= categorias_agrupadas_tienda3.get(menos_vendido_tienda3)\n",
        "\n",
        "mas_vendido_tienda4 = conteo_por_categoria_tienda4.idxmax()\n",
        "menos_vendido_tienda4 = conteo_por_categoria_tienda4.idxmin()\n",
        "monto_mas_vendido_tienda4= categorias_agrupadas_tienda4.get(mas_vendido_tienda4)\n",
        "monto_menos_vendido_tienda4= categorias_agrupadas_tienda4.get(menos_vendido_tienda4)\n",
        "\n",
        "# Muestra los resultados\n",
        "#print(f'La cantidad de productos vendidos por categoría en la tienda 1 son: {conteo_por_categoria_tienda1}')\n",
        "print(f'La categoría que mas vende en la tienda 1 es: {mas_vendido_tienda1} generando un ingreso de: {monto_mas_vendido_tienda1}')\n",
        "print(f'y la categoría que menos vende en la tienda 1 es: {menos_vendido_tienda1} generando un ingreso de: {monto_menos_vendido_tienda1}')\n",
        "\n",
        "#print(f'La cantidad de productos vendidos por categoría en la tienda 2 son: {conteo_por_categoria_tienda2}')\n",
        "print(f'La categoría que mas vende en la tienda 2 es: {mas_vendido_tienda2} generando un ingreso de: {monto_mas_vendido_tienda2}')\n",
        "print(f'y la categoría que menos vende en la tienda 2 es: {menos_vendido_tienda2} generando un ingreso de: {monto_menos_vendido_tienda2}')\n",
        "\n",
        "#print(f'La cantidad de productos vendidos por categoría en la tienda 3 son: {conteo_por_categoria_tienda3}')\n",
        "print(f'La categoría que mas vende en la tienda 3 es: {mas_vendido_tienda3} generando un ingreso de: {monto_mas_vendido_tienda3}')\n",
        "print(f'y la categoría que menos vende en la tienda 3 es: {menos_vendido_tienda3} generando un ingreso de: {monto_menos_vendido_tienda3}')\n",
        "\n",
        "#print(f'La cantidad de productos vendidos por categoría en la tienda 4 son: {conteo_por_categoria_tienda4}')\n",
        "print(f'La categoría que mas vende en la tienda 4 es: {mas_vendido_tienda4} generando un ingreso de: {monto_mas_vendido_tienda4}')\n",
        "print(f'y la categoría que menos vende en la tienda 4 es: {menos_vendido_tienda4} generando un ingreso de: {monto_menos_vendido_tienda4}')\n"
      ],
      "metadata": {
        "id": "qoyjqijQZHfF",
        "colab": {
          "base_uri": "https://localhost:8080/"
        },
        "outputId": "637f9086-ea7d-4292-fa38-fddf8b94d1a3"
      },
      "execution_count": 27,
      "outputs": [
        {
          "output_type": "stream",
          "name": "stdout",
          "text": [
            "La categoría que mas vende en la tienda 1 es: Muebles generando un ingreso de: 187633700.0\n",
            "y la categoría que menos vende en la tienda 1 es: Artículos para el hogar generando un ingreso de: 12698400.0\n",
            "La categoría que mas vende en la tienda 2 es: Muebles generando un ingreso de: 176426300.0\n",
            "y la categoría que menos vende en la tienda 2 es: Artículos para el hogar generando un ingreso de: 14746900.0\n",
            "La categoría que mas vende en la tienda 3 es: Muebles generando un ingreso de: 201072100.0\n",
            "y la categoría que menos vende en la tienda 3 es: Instrumentos musicales generando un ingreso de: 77380900.0\n",
            "La categoría que mas vende en la tienda 4 es: Muebles generando un ingreso de: 192528900.0\n",
            "y la categoría que menos vende en la tienda 4 es: Instrumentos musicales generando un ingreso de: 75102400.0\n"
          ]
        }
      ]
    },
    {
      "cell_type": "code",
      "source": [],
      "metadata": {
        "id": "0Sw3sd4IZIGW"
      },
      "execution_count": null,
      "outputs": []
    },
    {
      "cell_type": "markdown",
      "source": [
        "# 5. Envío promedio por tienda"
      ],
      "metadata": {
        "id": "Fl0cGi3bZKqU"
      }
    },
    {
      "cell_type": "code",
      "source": [
        "costoenvio_tienda1 = tienda['Costo de envío'].sum()/tienda['Calificación'].count()\n",
        "costoenvio_tienda2 = tienda2['Costo de envío'].sum()/tienda2['Calificación'].count()\n",
        "costoenvio_tienda3 = tienda3['Costo de envío'].sum()/tienda3['Calificación'].count()\n",
        "costoenvio_tienda4 = tienda4['Costo de envío'].sum()/tienda4['Calificación'].count()\n",
        "\n",
        "\n",
        "print(f\"El promedio de gasto en envíos de la tienda 1 es: {costoenvio_tienda1:.1f}\")\n",
        "print(f\"El promedio de gasto en envíos de la tienda 2 es: {costoenvio_tienda2:.1f}\")\n",
        "print(f\"El promedio de gasto en envíos de la tienda 3 es: {costoenvio_tienda3:.1f}\")\n",
        "print(f\"El promedio de gasto en envíos de la tienda 4 es: {costoenvio_tienda4:.1f}\")\n"
      ],
      "metadata": {
        "id": "S2JeaCykZNy9",
        "colab": {
          "base_uri": "https://localhost:8080/"
        },
        "outputId": "a50d8023-6513-460e-d9c1-feb3dfd92a22"
      },
      "execution_count": 15,
      "outputs": [
        {
          "output_type": "stream",
          "name": "stdout",
          "text": [
            "El promedio de gasto en envíos de la tienda 1 es: 26018.6\n",
            "El promedio de gasto en envíos de la tienda 2 es: 25216.2\n",
            "El promedio de gasto en envíos de la tienda 3 es: 24805.7\n",
            "El promedio de gasto en envíos de la tienda 4 es: 23459.5\n"
          ]
        }
      ]
    },
    {
      "cell_type": "code",
      "source": [
        "tiendas = [\"Tienda 1\", \"Tienda 2\", \"Tienda 3\", \"Tienda 4\"]\n",
        "gastos_envio = [costoenvio_tienda1, costoenvio_tienda2, costoenvio_tienda3, costoenvio_tienda4]\n",
        "\n",
        "plt.bar(x=tiendas, height=gastos_envio)\n",
        "plt.show()"
      ],
      "metadata": {
        "id": "0tSdCie9ZQlt",
        "colab": {
          "base_uri": "https://localhost:8080/",
          "height": 430
        },
        "outputId": "ee23df75-9f85-4515-d31d-eafb798d330f"
      },
      "execution_count": 19,
      "outputs": [
        {
          "output_type": "display_data",
          "data": {
            "text/plain": [
              "<Figure size 640x480 with 1 Axes>"
            ],
            "image/png": "[encoded data removed]"
          },
          "metadata": {}
        }
      ]
    },
    {
      "cell_type": "markdown",
      "source": [],
      "metadata": {
        "id": "tihccupm5z4J"
      }
    },
    {
      "cell_type": "markdown",
      "source": [
        "# 5. Conclusión\n"
      ],
      "metadata": {
        "id": "IekPturO552M"
      }
    },
    {
      "cell_type": "markdown",
      "source": [
        "Analisis de cierre\n",
        "\n",
        "De acuerdo con el analisis realizado demuestro que:\n",
        "\n",
        "La tiene que tiene mayor ingreso es la tienda XXXXXX generando un ingreso de XXXXXXXX, por el contrario la tienda que tiene menor ingreso es la tienda XXXXXX con un ingreso de solo XXXXXXXXXX.\n",
        "\n",
        "La categoria que tiene mas ventas es XXXXXXXXX vendiendo un total de XXXXXXXXXX productos y la tienda que vendio mas productos de esta categoria es XXXXXXXXXXXX y la que vendio menos productos es XXXXXXX\n",
        "\n",
        "La tienda que obtubo la mejor calificación es XXXXXXX sin embargo la que tuvo la calificación mas baja fue XXXXXXX\n",
        "\n",
        "La tienda que obtuvo en promedio mas gastos de envío fue XXXXXX y la que tuvo menos fue XXXXXXXX\n",
        "\n",
        "Por lo tanto mi sugerencia pra la tienda que cerrar es XXXXXXXX"
      ],
      "metadata": {
        "id": "ZE2hSifUuWWi"
      }
    },
    {
      "cell_type": "code",
      "source": [
        "print('Analisis de cierre')\n",
        "print('De acuerdo con el analisis realizado demuestro que:')\n",
        "\n",
        "print(f'La tienda que tiene mayor ingreso es la {tienda_mas[0]} generando un ingreso de ${tienda_mas[1]}')\n",
        "print(f'por el contrario la tienda que tiene menor ingreso es la {tienda_menos[0]} con un ingreso de solo ${tienda_menos[1]}.')\n",
        "\n",
        "print(f'La categoria que tiene mas ventas es {el_producto_mas} vendiendo un total de {Suma_cantidad_ventasmas} productos')\n",
        "print(f'La tienda que vendio mas productos de esta categoria es {tienda_que_mas_vende[0]} vendiendo un total de {tienda_que_mas_vende[1]}')\n",
        "print(f'Y la tienda que menos vendió de esta categoria es la {tienda_que_menos_vende[0]} vendiendo un total de {tienda_que_menos_vende[1]}')\n",
        "\n",
        "print(f'La tienda que tiene mejor calificación es la {tienda_mejor[0]} obteneniendo una calificación promedio de {tienda_mejor[1]:.2f}')\n",
        "print(f'En cambio la tienda que tiene mas baja calificación es la {tienda_peor[0]} obteniendo una calificación promedio de {tienda_peor[1]:.2f}')\n",
        "\n",
        "print(f'La tienda que en promedio tiene mas gastos de envío es la {tiendas[gastos_envio.index(max(gastos_envio))]} con un gasto promedio de ${max(gastos_envio):.1f}')\n",
        "print(f'Y la tienda que en promedio tiene menos gastos de envío es la {tiendas[gastos_envio.index(min(gastos_envio))]} con un gasto promedio de ${min(gastos_envio):.1f}')\n"
      ],
      "metadata": {
        "id": "AyZavLiD6D5S",
        "colab": {
          "base_uri": "https://localhost:8080/"
        },
        "outputId": "9c4dfd17-1401-4fa9-e39b-f6d95ca4465b"
      },
      "execution_count": 34,
      "outputs": [
        {
          "output_type": "stream",
          "name": "stdout",
          "text": [
            "Analisis de cierre\n",
            "De acuerdo con el analisis realizado demuestro que:\n",
            "La tienda que tiene mayor ingreso es la Tienda 1 generando un ingreso de $1150880400\n",
            "por el contrario la tienda que tiene menor ingreso es la Tienda 4 con un ingreso de solo $1038375700.\n",
            "La categoria que tiene mas ventas es Muebles vendiendo un total de 1886 productos\n",
            "La tienda que vendio mas productos de esta categoria es Tienda 3 vendiendo un total de 499\n",
            "Y la tienda que menos vendió de esta categoria es la Tienda 2 vendiendo un total de 442\n",
            "La tienda que tiene mejor calificación es la Tienda 3 obteneniendo una calificación promedio de 4.05\n",
            "En cambio la tienda que tiene mas baja calificación es la Tienda 1 obteniendo una calificación promedio de 3.98\n",
            "La tienda que en promedio tiene mas gastos de envío es la Tienda 1 con un gasto promedio de $26018.6\n",
            "Y la tienda que en promedio tiene menos gastos de envío es la Tienda 4 con un gasto promedio de $23459.5\n"
          ]
        }
      ]
    },
    {
      "cell_type": "code",
      "source": [
        "import matplotlib.pyplot as pc\n",
        "\n",
        "pc.pie(calificaciones, labels=tiendas, autopct= '%1.1f%%', startangle=90)\n",
        "pc.axis('equal')\n",
        "pc.title('Calificaciones de las tiendas')\n",
        "pc.show"
      ],
      "metadata": {
        "id": "TSBrxW6QZMuE",
        "outputId": "5d1efd73-08f4-4778-cfec-a065706dfd48",
        "colab": {
          "base_uri": "https://localhost:8080/",
          "height": 598
        }
      },
      "execution_count": 39,
      "outputs": [
        {
          "output_type": "execute_result",
          "data": {
            "text/plain": [
              "<function matplotlib.pyplot.show(close=None, block=None)>"
            ],
            "text/html": [
              "<div style=\"max-width:800px; border: 1px solid var(--colab-border-color);\"><style>\n",
              "      pre.function-repr-contents {\n",
              "        overflow-x: auto;\n",
              "        padding: 8px 12px;\n",
              "        max-height: 500px;\n",
              "      }\n",
              "\n",
              "      pre.function-repr-contents.function-repr-contents-collapsed {\n",
              "        cursor: pointer;\n",
              "        max-height: 100px;\n",
              "      }\n",
              "    </style>\n",
              "    <pre style=\"white-space: initial; background:\n",
              "         var(--colab-secondary-surface-color); padding: 8px 12px;\n",
              "         border-bottom: 1px solid var(--colab-border-color);\"><b>matplotlib.pyplot.show</b><br/>def show(*args, **kwargs) -&gt; None</pre><pre class=\"function-repr-contents function-repr-contents-collapsed\" style=\"\"><a class=\"filepath\" style=\"display:none\" href=\"#\">/usr/local/lib/python3.11/dist-packages/matplotlib/pyplot.py</a>Display all open figures.\n",
              "\n",
              "Parameters\n",
              "----------\n",
              "block : bool, optional\n",
              "    Whether to wait for all figures to be closed before returning.\n",
              "\n",
              "    If `True` block and run the GUI main loop until all figure windows\n",
              "    are closed.\n",
              "\n",
              "    If `False` ensure that all figure windows are displayed and return\n",
              "    immediately.  In this case, you are responsible for ensuring\n",
              "    that the event loop is running to have responsive figures.\n",
              "\n",
              "    Defaults to True in non-interactive mode and to False in interactive\n",
              "    mode (see `.pyplot.isinteractive`).\n",
              "\n",
              "See Also\n",
              "--------\n",
              "ion : Enable interactive mode, which shows / updates the figure after\n",
              "      every plotting command, so that calling ``show()`` is not necessary.\n",
              "ioff : Disable interactive mode.\n",
              "savefig : Save the figure to an image file instead of showing it on screen.\n",
              "\n",
              "Notes\n",
              "-----\n",
              "**Saving figures to file and showing a window at the same time**\n",
              "\n",
              "If you want an image file as well as a user interface window, use\n",
              "`.pyplot.savefig` before `.pyplot.show`. At the end of (a blocking)\n",
              "``show()`` the figure is closed and thus unregistered from pyplot. Calling\n",
              "`.pyplot.savefig` afterwards would save a new and thus empty figure. This\n",
              "limitation of command order does not apply if the show is non-blocking or\n",
              "if you keep a reference to the figure and use `.Figure.savefig`.\n",
              "\n",
              "**Auto-show in jupyter notebooks**\n",
              "\n",
              "The jupyter backends (activated via ``%matplotlib inline``,\n",
              "``%matplotlib notebook``, or ``%matplotlib widget``), call ``show()`` at\n",
              "the end of every cell by default. Thus, you usually don&#x27;t have to call it\n",
              "explicitly there.</pre>\n",
              "      <script>\n",
              "      if (google.colab.kernel.accessAllowed && google.colab.files && google.colab.files.view) {\n",
              "        for (const element of document.querySelectorAll('.filepath')) {\n",
              "          element.style.display = 'block'\n",
              "          element.onclick = (event) => {\n",
              "            event.preventDefault();\n",
              "            event.stopPropagation();\n",
              "            google.colab.files.view(element.textContent, 569);\n",
              "          };\n",
              "        }\n",
              "      }\n",
              "      for (const element of document.querySelectorAll('.function-repr-contents')) {\n",
              "        element.onclick = (event) => {\n",
              "          event.preventDefault();\n",
              "          event.stopPropagation();\n",
              "          element.classList.toggle('function-repr-contents-collapsed');\n",
              "        };\n",
              "      }\n",
              "      </script>\n",
              "      </div>"
            ]
          },
          "metadata": {},
          "execution_count": 39
        },
        {
          "output_type": "display_data",
          "data": {
            "text/plain": [
              "<Figure size 640x480 with 1 Axes>"
            ],
            "image/png": "[encoded data removed]"
          },
          "metadata": {}
        }
      ]
    },
    {
      "cell_type": "code",
      "source": [
        "plt.plot(tiendas, cantidades_venidad)\n",
        "plt.xlabel('Tiendas')\n",
        "plt.ylabel('Cantidad de ventas')\n",
        "plt.title('Cantidad de ventas por tienda')\n",
        "plt.show()"
      ],
      "metadata": {
        "colab": {
          "base_uri": "https://localhost:8080/",
          "height": 472
        },
        "id": "kNfLbRWWOAHg",
        "outputId": "01dda8f1-4a6c-4e7d-92d4-8804752dbbf6"
      },
      "execution_count": 40,
      "outputs": [
        {
          "output_type": "display_data",
          "data": {
            "text/plain": [
              "<Figure size 640x480 with 1 Axes>"
            ],
            "image/png": "[encoded data removed]"
          },
          "metadata": {}
        }
      ]
    },
    {
      "cell_type": "code",
      "source": [
        "print('Por lo tanto mi sugerencia pra la tienda que cerrar es la tienda 2 ya que no tiene una mejor calificación,')\n",
        "print('si bien es cierto no es la peor pero no tiene mayores ingresos y del producto mas vendido es la que menos vende')\n"
      ],
      "metadata": {
        "id": "a20bIirlbLxv",
        "outputId": "cd211659-2d1b-45d1-b072-dc2353e904f5",
        "colab": {
          "base_uri": "https://localhost:8080/"
        }
      },
      "execution_count": 42,
      "outputs": [
        {
          "output_type": "stream",
          "name": "stdout",
          "text": [
            "Por lo tanto mi sugerencia pra la tienda que cerrar es la tienda 2 ya que no tiene una mejor calificación,\n",
            "si bien es cierto no es la peor pero no tiene mayores ingresos y del producto mas vendido es la que menos vende\n"
          ]
        }
      ]
    }
  ]
}